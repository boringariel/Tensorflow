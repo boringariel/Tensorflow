{
 "cells": [
  {
   "cell_type": "markdown",
   "id": "fbd45710-8115-451c-9b1c-df5ee37d15fd",
   "metadata": {},
   "source": [
    "## 평균 절대 오차\n",
    "---\n",
    "MAE라고 표기하는 평균 절대 오차(Mean Absolute Error)는 예측한 값과 실제 값 사이의 차이에 절대값을 취한 뒤, 이를 평균낸 값을 이릅니다. 특별한 값 보정 없이 절대값만 취했기 때문에 직관적으로 오차를 확인할 수 있다는 장점이 있지요. 이 때문에 해석이 쉬워서 종종 이용되지만, 대부분의 기계학습 모델에서는 큰 오차가 더 치명적인 문제를 일으키기 때문에 오차의 크기에 따른 가중치가 없는 MAE는 자주 사용되지 않는 평가 지표입니다.\n",
    "</p></br></br>\n",
    "\n",
    "$n$개의 데이터가 있을 때, 예측한 값 $\\hat{y}_i$와 실제 값 $y_i$가 있다면, MAE는 아래와 같은 수식으로 표현할 수 있습니다.\n",
    "</p>\n",
    "$\\text{MAE} = \\frac{1}{n} \\sum_{i=1}^{n} |y_i - \\hat{y}_i|$\n",
    "</p></br></br>\n",
    "\n",
    "\n",
    "## 평균 제곱 오차\n",
    "---\n",
    "위에 살펴본 MAE의 문제를 해결하기 위해서는 큰 오차일수록 더욱 큰 값이 반환되는 수식을 이용해야 합니다. 흔히 MSE라고 표기하는 평균 제곱 오차(Mean Squared Error)는 해당 요소가 반영되어 있어서 예측한 값과 실제 값 사이의 차이를 나타내는 대표적인 비용 함수로 이용되고 있지요. 이 함수는 회귀 분석에서 주로 이용한다고 하는데요, MSE의 수식은 아래와 같이 나타낼 수 있습니다.\n",
    "</p></br></br>\n",
    "\n",
    "MSE는 아래와 같은 수식을 보여줍니다.\n",
    "</p>\n",
    "$ \\text{MSE} = \\frac{1}{n} \\sum_{i=1}^{n} (y_i - \\hat{y}_i)^2 $\n",
    "</p></br></br>\n",
    "\n",
    "그리고, RMSE(평균 제곱근 편차, Root Mean Squared Error)는 MSE의 제곱근으로 정의할 수 있으며, 아래와 같은 수식으로 표현할 수 있습니다.\n",
    "</p>\n",
    "$\\text{RMSE} = \\sqrt{\\frac{1}{n} \\sum_{i=1}^{n} (y_i - \\hat{y}_i)^2}$\n",
    "</p></br></br>\n",
    "\n",
    "MSE는 수식의 특성상, 항상 양의 값으로만 나타납니다. 그리고 오차가 적을수록 0에 가까워지기 때문에, 낮으면 낮을수록 모델의 성능이 좋다고 판단할 수 있기 때문에 직관적으로 모델을 평가할 수 있습니다. 다만, 오차가 클수록 값이 많이 늘어나는 경향이 있기 때문에 MSE 값에 제곱근을 취한 RMSE 지표를 사용하는 경우도 있습니다.\n",
    "</p></br></br>\n",
    "\n",
    "## 교차 엔트로피 손실\n",
    "교차 엔트로피 손실(Cross Entropy Loss)은 분류기를 만들 때 주로 이용하는 비용 함수입니다. 이는 분류기가 예측한 확률 분포와, 실제 확률 분포 사이의 차이를 측정하는 방식으로 계산합니다. 교차 엔트로피 손실 함수의 경우, 분류기에서 이용한다는 특성상 이진 분류와 다중 분류 모델에서 서로 다른 함수를 이용하게 됩니다. 이진 분류의 경우 이진 교차 엔트로피(Binary Crossentropy) 함수를, 다중 분류의 경우 범주형 교차 엔트로피(Categorical Crossentropy) 함수를 이용하는 편이지요.\n",
    "</p></br></br>\n",
    "\n",
    "이진 교차 엔트로피를 수식으로 나타내자면, 아래와 같이 표현할 수 있습니다.\n",
    "</p>\n",
    "$\\text{Loss} = -\\frac{1}{n} \\sum_{i=1}^{n} \\left[ y_i \\log(\\hat{y}_i) + (1 - y_i) \\log(1 - \\hat{y}_i) \\right]$\n",
    "</p></br></br>\n",
    "\n",
    "## 비용 함수의 이용\n",
    "---\n",
    "이번에는 파이썬(Python)에서 흔히 사용하는 딥러닝 라이브러리인 텐서플로우(TensorFlow)를 이용해서 비용 함수를 이용해 보겠습니다. 먼저, $y=Wx+b$ 방정식에 해당하는 문제를 풀 수 있는 선형 회귀(Linear Regression) 모델에서 MSE를 이용하는 사례입니다.\n",
    "</p></br></br>\n",
    "\n",
    "### MSE의 이용\n",
    "---\n",
    "</p></br></br>\n"
   ]
  },
  {
   "cell_type": "code",
   "execution_count": 1,
   "id": "72b7d822-587b-489c-803c-c9f3ba5ae555",
   "metadata": {},
   "outputs": [
    {
     "name": "stdout",
     "output_type": "stream",
     "text": [
      "Epoch 0: Loss: 41.0\n",
      "Epoch 100: Loss: 0.007531234994530678\n",
      "Epoch 200: Loss: 0.0041345576755702496\n",
      "Epoch 300: Loss: 0.002269820310175419\n",
      "Epoch 400: Loss: 0.0012461235746741295\n",
      "Epoch 500: Loss: 0.0006841050344519317\n",
      "Epoch 600: Loss: 0.0003755530924536288\n",
      "Epoch 700: Loss: 0.0002061743725789711\n",
      "Epoch 800: Loss: 0.00011318828910589218\n",
      "Epoch 900: Loss: 6.213804590515792e-05\n",
      "학습된 W: 2.0048611164093018\n",
      "학습된 b: 0.9857079386711121\n",
      "예측 결과: [11.010014 13.014875]\n"
     ]
    }
   ],
   "source": [
    "import tensorflow as tf\n",
    "import numpy as np\n",
    "\n",
    "# 데이터 생성 (y = 2x + 1)\n",
    "X = np.array([1, 2, 3, 4], dtype=np.float32)\n",
    "y = np.array([3, 5, 7, 9], dtype=np.float32)\n",
    "\n",
    "# 가중치, 바이어스 초기화\n",
    "W = tf.Variable(0.0)\n",
    "b = tf.Variable(0.0)\n",
    "\n",
    "def linear_model(X):\n",
    "    return W * X + b\n",
    "\n",
    "def mean_squared_error(y_true, y_pred):\n",
    "    return tf.reduce_mean(tf.square(y_true - y_pred))\n",
    "\n",
    "optimizer = tf.optimizers.SGD(learning_rate=0.01)\n",
    "\n",
    "# 학습 과정 정의\n",
    "def train_step(X, y):\n",
    "    with tf.GradientTape() as tape:\n",
    "        y_pred = linear_model(X)\n",
    "        loss = mean_squared_error(y, y_pred)\n",
    "    gradients = tape.gradient(loss, [W, b])\n",
    "    optimizer.apply_gradients(zip(gradients, [W, b]))\n",
    "    return loss\n",
    "\n",
    "# 학습 반복\n",
    "epochs = 1000\n",
    "for epoch in range(epochs):\n",
    "    loss = train_step(X, y)\n",
    "    if epoch % 100 == 0:\n",
    "        print(f\"Epoch {epoch}: Loss: {loss.numpy()}\")\n",
    "\n",
    "# 학습된 파라미터 출력\n",
    "print(f\"학습된 W: {W.numpy()}\")\n",
    "print(f\"학습된 b: {b.numpy()}\")\n",
    "\n",
    "# 예측 결과 출력\n",
    "X_test = np.array([5, 6], dtype=np.float32)\n",
    "y_test_pred = linear_model(X_test)\n",
    "print(f\"예측 결과: {y_test_pred.numpy()}\")"
   ]
  }
 ],
 "metadata": {
  "kernelspec": {
   "display_name": "test311",
   "language": "python",
   "name": "test311"
  },
  "language_info": {
   "codemirror_mode": {
    "name": "ipython",
    "version": 3
   },
   "file_extension": ".py",
   "mimetype": "text/x-python",
   "name": "python",
   "nbconvert_exporter": "python",
   "pygments_lexer": "ipython3",
   "version": "3.11.4"
  },
  "widgets": {
   "application/vnd.jupyter.widget-state+json": {
    "state": {},
    "version_major": 2,
    "version_minor": 0
   }
  }
 },
 "nbformat": 4,
 "nbformat_minor": 5
}
