{
 "cells": [
  {
   "cell_type": "markdown",
   "metadata": {},
   "source": [
    "### Tensorflow를 이용한 머신러닝\n",
    "* 폐암 수술 환자의 생존율 예측\n",
    "> 주어진 데이터를 이용해 이용해 폐암 수술 환자의 생존율을 예측하는 프로그램을 만들어 보자.\n",
    "\n",
    "\n",
    "* 사용 데이터: 폴란드 브로츠와프 의과대학의 2013년 폐암 수술 환자 데이터<br>\n",
    "> 수술 전 진단 데이터와 수술 후 생존 결과를 기록한 의료기록으로 이루어져 있으며,<br>\n",
    "470명의 환자, 18개 항목(1~17: 환자 정보, 18: 생존여부(1: 생존, 0: 사망))으로 이루어져 있다.<br>\n",
    "\n",
    "---"
   ]
  },
  {
   "cell_type": "code",
   "execution_count": 1,
   "metadata": {},
   "outputs": [
    {
     "name": "stderr",
     "output_type": "stream",
     "text": [
      "C:\\ProgramData\\Anaconda3\\lib\\site-packages\\h5py\\__init__.py:36: FutureWarning: Conversion of the second argument of issubdtype from `float` to `np.floating` is deprecated. In future, it will be treated as `np.float64 == np.dtype(float).type`.\n",
      "  from ._conv import register_converters as _register_converters\n",
      "Using TensorFlow backend.\n"
     ]
    }
   ],
   "source": [
    "import tensorflow as tf\n",
    "import numpy as np\n",
    "from keras.models import Sequential\n",
    "from keras.layers import Dense"
   ]
  },
  {
   "cell_type": "code",
   "execution_count": 2,
   "metadata": {},
   "outputs": [],
   "source": [
    "seed = 0\n",
    "np.random.seed(seed)\n",
    "tf.set_random_seed(seed)\n",
    "# 실행시마다 일정한 값을 보장하기 위함"
   ]
  },
  {
   "cell_type": "code",
   "execution_count": 3,
   "metadata": {},
   "outputs": [],
   "source": [
    "data_set = np.loadtxt(\"./dataset/ThoraricSurgery.csv\",delimiter=\",\")\n",
    "# 환자 데이터 불러오기"
   ]
  },
  {
   "cell_type": "code",
   "execution_count": 4,
   "metadata": {},
   "outputs": [
    {
     "name": "stdout",
     "output_type": "stream",
     "text": [
      "[[293.     1.     3.8  ...   0.    62.     0.  ]\n",
      " [  1.     2.     2.88 ...   0.    60.     0.  ]\n",
      " [  8.     2.     3.19 ...   0.    66.     1.  ]\n",
      " ...\n",
      " [406.     6.     5.36 ...   0.    62.     0.  ]\n",
      " [ 25.     8.     4.32 ...   0.    58.     1.  ]\n",
      " [447.     8.     5.2  ...   0.    49.     0.  ]]\n"
     ]
    }
   ],
   "source": [
    "print(data_set)"
   ]
  },
  {
   "cell_type": "code",
   "execution_count": 5,
   "metadata": {},
   "outputs": [],
   "source": [
    "X = data_set[:,0:17]\n",
    "Y = data_set[:,17]\n",
    "# X: 환자 기록, Y: 수술 결과로 대입시킴"
   ]
  },
  {
   "cell_type": "code",
   "execution_count": 6,
   "metadata": {},
   "outputs": [],
   "source": [
    "model = Sequential()\n",
    "model.add(Dense(30,input_dim=17,activation='relu'))\n",
    "# 입력계층. Dense: 노드 개수 30개, 17개 data를 받음\n",
    "model.add(Dense(1,activation='sigmoid'))\n",
    "# 출력계층. 노드 하나로 참/거짓 판별\n",
    "\n",
    "# 딥러닝 구조 결정"
   ]
  },
  {
   "cell_type": "code",
   "execution_count": 7,
   "metadata": {
    "scrolled": true
   },
   "outputs": [
    {
     "name": "stdout",
     "output_type": "stream",
     "text": [
      "Epoch 1/30\n",
      "470/470 [==============================] - 0s 848us/step - loss: 0.6617 - acc: 0.3149\n",
      "Epoch 2/30\n",
      "470/470 [==============================] - 0s 296us/step - loss: 0.1488 - acc: 0.8511 0s - loss: 0.1578 - acc: 0.842\n",
      "Epoch 3/30\n",
      "470/470 [==============================] - 0s 303us/step - loss: 0.1488 - acc: 0.8511\n",
      "Epoch 4/30\n",
      "470/470 [==============================] - 0s 285us/step - loss: 0.1488 - acc: 0.8511\n",
      "Epoch 5/30\n",
      "470/470 [==============================] - 0s 321us/step - loss: 0.1488 - acc: 0.8511\n",
      "Epoch 6/30\n",
      "470/470 [==============================] - 0s 284us/step - loss: 0.1487 - acc: 0.8511\n",
      "Epoch 7/30\n",
      "470/470 [==============================] - 0s 295us/step - loss: 0.1487 - acc: 0.8511\n",
      "Epoch 8/30\n",
      "470/470 [==============================] - 0s 294us/step - loss: 0.1487 - acc: 0.8511\n",
      "Epoch 9/30\n",
      "470/470 [==============================] - 0s 250us/step - loss: 0.1487 - acc: 0.8511\n",
      "Epoch 10/30\n",
      "470/470 [==============================] - 0s 282us/step - loss: 0.1486 - acc: 0.8511\n",
      "Epoch 11/30\n",
      "470/470 [==============================] - 0s 301us/step - loss: 0.1498 - acc: 0.8447\n",
      "Epoch 12/30\n",
      "470/470 [==============================] - 0s 259us/step - loss: 0.1486 - acc: 0.8511\n",
      "Epoch 13/30\n",
      "470/470 [==============================] - 0s 270us/step - loss: 0.1485 - acc: 0.8511\n",
      "Epoch 14/30\n",
      "470/470 [==============================] - 0s 300us/step - loss: 0.1483 - acc: 0.8511\n",
      "Epoch 15/30\n",
      "470/470 [==============================] - 0s 289us/step - loss: 0.1485 - acc: 0.8511\n",
      "Epoch 16/30\n",
      "470/470 [==============================] - 0s 302us/step - loss: 0.1490 - acc: 0.8447\n",
      "Epoch 17/30\n",
      "470/470 [==============================] - 0s 332us/step - loss: 0.1479 - acc: 0.8489\n",
      "Epoch 18/30\n",
      "470/470 [==============================] - 0s 334us/step - loss: 0.1482 - acc: 0.8468\n",
      "Epoch 19/30\n",
      "470/470 [==============================] - 0s 286us/step - loss: 0.1476 - acc: 0.8511\n",
      "Epoch 20/30\n",
      "470/470 [==============================] - 0s 390us/step - loss: 0.1480 - acc: 0.8511\n",
      "Epoch 21/30\n",
      "470/470 [==============================] - 0s 379us/step - loss: 0.1475 - acc: 0.8511\n",
      "Epoch 22/30\n",
      "470/470 [==============================] - 0s 355us/step - loss: 0.1469 - acc: 0.8511\n",
      "Epoch 23/30\n",
      "470/470 [==============================] - 0s 301us/step - loss: 0.1466 - acc: 0.8511\n",
      "Epoch 24/30\n",
      "470/470 [==============================] - 0s 301us/step - loss: 0.1475 - acc: 0.8489\n",
      "Epoch 25/30\n",
      "470/470 [==============================] - 0s 361us/step - loss: 0.1471 - acc: 0.8511\n",
      "Epoch 26/30\n",
      "470/470 [==============================] - 0s 435us/step - loss: 0.1466 - acc: 0.8511\n",
      "Epoch 27/30\n",
      "470/470 [==============================] - 0s 322us/step - loss: 0.1472 - acc: 0.8511\n",
      "Epoch 28/30\n",
      "470/470 [==============================] - 0s 431us/step - loss: 0.1471 - acc: 0.8511\n",
      "Epoch 29/30\n",
      "470/470 [==============================] - 0s 273us/step - loss: 0.1470 - acc: 0.8489\n",
      "Epoch 30/30\n",
      "470/470 [==============================] - 0s 349us/step - loss: 0.1461 - acc: 0.8532\n"
     ]
    },
    {
     "data": {
      "text/plain": [
       "<keras.callbacks.History at 0x1e4a2b969b0>"
      ]
     },
     "execution_count": 7,
     "metadata": {},
     "output_type": "execute_result"
    }
   ],
   "source": [
    "model.compile(loss='mean_squared_error',optimizer='adam',metrics=['accuracy'])\n",
    "# 평균 제곱 오차 함수를 사용함, 최적화: adam 방식 사용\n",
    "model.fit(X,Y,epochs=30,batch_size=10)\n",
    "#epochs: 학습 횟수, batch_size: 10개 묶음으로 학습시킴\n",
    "\n",
    "# 딥러닝 실행"
   ]
  },
  {
   "cell_type": "code",
   "execution_count": 8,
   "metadata": {},
   "outputs": [
    {
     "name": "stdout",
     "output_type": "stream",
     "text": [
      "470/470 [==============================] - 0s 376us/step\n",
      "\n",
      " Accuracy: 0.8511\n"
     ]
    }
   ],
   "source": [
    "print(\"\\n Accuracy: %.4f\"%(model.evaluate(X,Y)[1])) # 결과"
   ]
  }
 ],
 "metadata": {
  "kernelspec": {
   "display_name": "Python 3",
   "language": "python",
   "name": "python3"
  },
  "language_info": {
   "codemirror_mode": {
    "name": "ipython",
    "version": 3
   },
   "file_extension": ".py",
   "mimetype": "text/x-python",
   "name": "python",
   "nbconvert_exporter": "python",
   "pygments_lexer": "ipython3",
   "version": "3.6.5"
  }
 },
 "nbformat": 4,
 "nbformat_minor": 2
}
