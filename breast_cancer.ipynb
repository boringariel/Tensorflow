{
  "nbformat": 4,
  "nbformat_minor": 0,
  "metadata": {
    "colab": {
      "name": "breast_cancer.ipynb",
      "version": "0.3.2",
      "provenance": [],
      "collapsed_sections": []
    },
    "kernelspec": {
      "name": "python3",
      "display_name": "Python 3"
    }
  },
  "cells": [
    {
      "cell_type": "markdown",
      "metadata": {
        "id": "8pwPrCXpkeii",
        "colab_type": "text"
      },
      "source": [
        "## Tensorflow tutorial\n",
        "* 텐서플로우를 이용해서 유방암 진단 모델을 만들어 보자\n",
        "* google colab을 이용해 진행하였음: https://colab.research.google.com/\n",
        "---"
      ]
    },
    {
      "cell_type": "code",
      "metadata": {
        "colab_type": "code",
        "id": "iT2kUhG1nISh",
        "outputId": "a339ae10-0290-4dfa-c3ee-e9988b21d952",
        "colab": {
          "base_uri": "https://localhost:8080/",
          "height": 35
        }
      },
      "source": [
        "import tensorflow as tf                #ML 백엔드로 사용\n",
        "from keras.models import Sequential    #ML 프론트엔드로 사용\n",
        "from keras.layers import Dense\n",
        "import pandas as pd                    #csv 파일 불러오기에 사용\n",
        "import numpy as np                     #TF는 numpy 배열로 입력시켜야 함\n",
        "from google.colab import files         #colab 파일 업로드를 위해 사용\n",
        "from matplotlib import pyplot as plt   #그래프를 그리기 위해 사용"
      ],
      "execution_count": 1,
      "outputs": [
        {
          "output_type": "stream",
          "text": [
            "Using TensorFlow backend.\n"
          ],
          "name": "stderr"
        }
      ]
    },
    {
      "cell_type": "markdown",
      "metadata": {
        "id": "ZyKptZa0nkpY",
        "colab_type": "text"
      },
      "source": [
        "---\n",
        "### 유방암 데이터 불러오기\n",
        "* 위스콘신 유방암 데이터를 이용한다\n",
        "* 아래 출처에서 다운로드할 수 있으며, 해당 데이터는 train과 valid의 두 파일로 분리되어 있다\n",
        "* source: https://www.kaggle.com/humbertobrandao/breast-cancer/"
      ]
    },
    {
      "cell_type": "code",
      "metadata": {
        "colab_type": "code",
        "outputId": "d7cae52c-8459-40d3-f19e-98d2a838c7aa",
        "id": "fVlUE_WKcGZW",
        "colab": {
          "resources": {
            "http://localhost:8080/nbextensions/google.colab/files.js": {
              "data": "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",
              "ok": true,
              "headers": [
                [
                  "content-type",
                  "application/javascript"
                ]
              ],
              "status": 200,
              "status_text": ""
            }
          },
          "base_uri": "https://localhost:8080/",
          "height": 78
        }
      },
      "source": [
        "#colab에 파일 업로드하기\n",
        "data = files.upload()"
      ],
      "execution_count": 2,
      "outputs": [
        {
          "output_type": "display_data",
          "data": {
            "text/html": [
              "\n",
              "     <input type=\"file\" id=\"files-a6b5e161-7b2a-46ce-a4aa-355aaa3278d2\" name=\"files[]\" multiple disabled />\n",
              "     <output id=\"result-a6b5e161-7b2a-46ce-a4aa-355aaa3278d2\">\n",
              "      Upload widget is only available when the cell has been executed in the\n",
              "      current browser session. Please rerun this cell to enable.\n",
              "      </output>\n",
              "      <script src=\"/nbextensions/google.colab/files.js\"></script> "
            ],
            "text/plain": [
              "<IPython.core.display.HTML object>"
            ]
          },
          "metadata": {
            "tags": []
          }
        },
        {
          "output_type": "stream",
          "text": [
            "Saving train.csv to train (3).csv\n"
          ],
          "name": "stdout"
        }
      ]
    },
    {
      "cell_type": "code",
      "metadata": {
        "id": "KFXDLBbcnCnB",
        "colab_type": "code",
        "colab": {}
      },
      "source": [
        "df = pd.read_csv('./train.csv')"
      ],
      "execution_count": 0,
      "outputs": []
    },
    {
      "cell_type": "code",
      "metadata": {
        "id": "4Cype-a9nNDw",
        "colab_type": "code",
        "outputId": "16024f07-a9c3-4915-a7d2-e86d4358509a",
        "colab": {
          "base_uri": "https://localhost:8080/",
          "height": 241
        }
      },
      "source": [
        "df.head()"
      ],
      "execution_count": 4,
      "outputs": [
        {
          "output_type": "execute_result",
          "data": {
            "text/html": [
              "<div>\n",
              "<style scoped>\n",
              "    .dataframe tbody tr th:only-of-type {\n",
              "        vertical-align: middle;\n",
              "    }\n",
              "\n",
              "    .dataframe tbody tr th {\n",
              "        vertical-align: top;\n",
              "    }\n",
              "\n",
              "    .dataframe thead th {\n",
              "        text-align: right;\n",
              "    }\n",
              "</style>\n",
              "<table border=\"1\" class=\"dataframe\">\n",
              "  <thead>\n",
              "    <tr style=\"text-align: right;\">\n",
              "      <th></th>\n",
              "      <th>id</th>\n",
              "      <th>diagnosis</th>\n",
              "      <th>radius_mean</th>\n",
              "      <th>texture_mean</th>\n",
              "      <th>perimeter_mean</th>\n",
              "      <th>area_mean</th>\n",
              "      <th>smoothness_mean</th>\n",
              "      <th>compactness_mean</th>\n",
              "      <th>concavity_mean</th>\n",
              "      <th>concave points_mean</th>\n",
              "      <th>symmetry_mean</th>\n",
              "      <th>fractal_dimension_mean</th>\n",
              "      <th>radius_se</th>\n",
              "      <th>texture_se</th>\n",
              "      <th>perimeter_se</th>\n",
              "      <th>area_se</th>\n",
              "      <th>smoothness_se</th>\n",
              "      <th>compactness_se</th>\n",
              "      <th>concavity_se</th>\n",
              "      <th>concave points_se</th>\n",
              "      <th>symmetry_se</th>\n",
              "      <th>fractal_dimension_se</th>\n",
              "      <th>radius_worst</th>\n",
              "      <th>texture_worst</th>\n",
              "      <th>perimeter_worst</th>\n",
              "      <th>area_worst</th>\n",
              "      <th>smoothness_worst</th>\n",
              "      <th>compactness_worst</th>\n",
              "      <th>concavity_worst</th>\n",
              "      <th>concave points_worst</th>\n",
              "      <th>symmetry_worst</th>\n",
              "      <th>fractal_dimension_worst</th>\n",
              "    </tr>\n",
              "  </thead>\n",
              "  <tbody>\n",
              "    <tr>\n",
              "      <th>0</th>\n",
              "      <td>863270</td>\n",
              "      <td>B</td>\n",
              "      <td>12.360</td>\n",
              "      <td>18.54</td>\n",
              "      <td>79.01</td>\n",
              "      <td>466.7</td>\n",
              "      <td>0.08477</td>\n",
              "      <td>0.06815</td>\n",
              "      <td>0.02643</td>\n",
              "      <td>0.01921</td>\n",
              "      <td>0.1602</td>\n",
              "      <td>0.06066</td>\n",
              "      <td>0.1199</td>\n",
              "      <td>0.8944</td>\n",
              "      <td>0.8484</td>\n",
              "      <td>9.227</td>\n",
              "      <td>0.003457</td>\n",
              "      <td>0.01047</td>\n",
              "      <td>0.011670</td>\n",
              "      <td>0.005558</td>\n",
              "      <td>0.01251</td>\n",
              "      <td>0.001356</td>\n",
              "      <td>13.290</td>\n",
              "      <td>27.49</td>\n",
              "      <td>85.56</td>\n",
              "      <td>544.1</td>\n",
              "      <td>0.1184</td>\n",
              "      <td>0.19630</td>\n",
              "      <td>0.19370</td>\n",
              "      <td>0.08442</td>\n",
              "      <td>0.2983</td>\n",
              "      <td>0.07185</td>\n",
              "    </tr>\n",
              "    <tr>\n",
              "      <th>1</th>\n",
              "      <td>87556202</td>\n",
              "      <td>M</td>\n",
              "      <td>14.860</td>\n",
              "      <td>23.21</td>\n",
              "      <td>100.40</td>\n",
              "      <td>671.4</td>\n",
              "      <td>0.10440</td>\n",
              "      <td>0.19800</td>\n",
              "      <td>0.16970</td>\n",
              "      <td>0.08878</td>\n",
              "      <td>0.1737</td>\n",
              "      <td>0.06672</td>\n",
              "      <td>0.2796</td>\n",
              "      <td>0.9622</td>\n",
              "      <td>3.5910</td>\n",
              "      <td>25.200</td>\n",
              "      <td>0.008081</td>\n",
              "      <td>0.05122</td>\n",
              "      <td>0.055510</td>\n",
              "      <td>0.018830</td>\n",
              "      <td>0.02545</td>\n",
              "      <td>0.004312</td>\n",
              "      <td>16.080</td>\n",
              "      <td>27.78</td>\n",
              "      <td>118.60</td>\n",
              "      <td>784.7</td>\n",
              "      <td>0.1316</td>\n",
              "      <td>0.46480</td>\n",
              "      <td>0.45890</td>\n",
              "      <td>0.17270</td>\n",
              "      <td>0.3000</td>\n",
              "      <td>0.08701</td>\n",
              "    </tr>\n",
              "    <tr>\n",
              "      <th>2</th>\n",
              "      <td>858970</td>\n",
              "      <td>B</td>\n",
              "      <td>10.170</td>\n",
              "      <td>14.88</td>\n",
              "      <td>64.55</td>\n",
              "      <td>311.9</td>\n",
              "      <td>0.11340</td>\n",
              "      <td>0.08061</td>\n",
              "      <td>0.01084</td>\n",
              "      <td>0.01290</td>\n",
              "      <td>0.2743</td>\n",
              "      <td>0.06960</td>\n",
              "      <td>0.5158</td>\n",
              "      <td>1.4410</td>\n",
              "      <td>3.3120</td>\n",
              "      <td>34.620</td>\n",
              "      <td>0.007514</td>\n",
              "      <td>0.01099</td>\n",
              "      <td>0.007665</td>\n",
              "      <td>0.008193</td>\n",
              "      <td>0.04183</td>\n",
              "      <td>0.005953</td>\n",
              "      <td>11.020</td>\n",
              "      <td>17.45</td>\n",
              "      <td>69.86</td>\n",
              "      <td>368.6</td>\n",
              "      <td>0.1275</td>\n",
              "      <td>0.09866</td>\n",
              "      <td>0.02168</td>\n",
              "      <td>0.02579</td>\n",
              "      <td>0.3557</td>\n",
              "      <td>0.08020</td>\n",
              "    </tr>\n",
              "    <tr>\n",
              "      <th>3</th>\n",
              "      <td>909220</td>\n",
              "      <td>B</td>\n",
              "      <td>14.040</td>\n",
              "      <td>15.98</td>\n",
              "      <td>89.78</td>\n",
              "      <td>611.2</td>\n",
              "      <td>0.08458</td>\n",
              "      <td>0.05895</td>\n",
              "      <td>0.03534</td>\n",
              "      <td>0.02944</td>\n",
              "      <td>0.1714</td>\n",
              "      <td>0.05898</td>\n",
              "      <td>0.3892</td>\n",
              "      <td>1.0460</td>\n",
              "      <td>2.6440</td>\n",
              "      <td>32.740</td>\n",
              "      <td>0.007976</td>\n",
              "      <td>0.01295</td>\n",
              "      <td>0.016080</td>\n",
              "      <td>0.009046</td>\n",
              "      <td>0.02005</td>\n",
              "      <td>0.002830</td>\n",
              "      <td>15.660</td>\n",
              "      <td>21.58</td>\n",
              "      <td>101.20</td>\n",
              "      <td>750.0</td>\n",
              "      <td>0.1195</td>\n",
              "      <td>0.12520</td>\n",
              "      <td>0.11170</td>\n",
              "      <td>0.07453</td>\n",
              "      <td>0.2725</td>\n",
              "      <td>0.07234</td>\n",
              "    </tr>\n",
              "    <tr>\n",
              "      <th>4</th>\n",
              "      <td>9010333</td>\n",
              "      <td>B</td>\n",
              "      <td>8.878</td>\n",
              "      <td>15.49</td>\n",
              "      <td>56.74</td>\n",
              "      <td>241.0</td>\n",
              "      <td>0.08293</td>\n",
              "      <td>0.07698</td>\n",
              "      <td>0.04721</td>\n",
              "      <td>0.02381</td>\n",
              "      <td>0.1930</td>\n",
              "      <td>0.06621</td>\n",
              "      <td>0.5381</td>\n",
              "      <td>1.2000</td>\n",
              "      <td>4.2770</td>\n",
              "      <td>30.180</td>\n",
              "      <td>0.010930</td>\n",
              "      <td>0.02899</td>\n",
              "      <td>0.032140</td>\n",
              "      <td>0.015060</td>\n",
              "      <td>0.02837</td>\n",
              "      <td>0.004174</td>\n",
              "      <td>9.981</td>\n",
              "      <td>17.70</td>\n",
              "      <td>65.27</td>\n",
              "      <td>302.0</td>\n",
              "      <td>0.1015</td>\n",
              "      <td>0.12480</td>\n",
              "      <td>0.09441</td>\n",
              "      <td>0.04762</td>\n",
              "      <td>0.2434</td>\n",
              "      <td>0.07431</td>\n",
              "    </tr>\n",
              "  </tbody>\n",
              "</table>\n",
              "</div>"
            ],
            "text/plain": [
              "         id diagnosis  ...  symmetry_worst  fractal_dimension_worst\n",
              "0    863270         B  ...          0.2983                  0.07185\n",
              "1  87556202         M  ...          0.3000                  0.08701\n",
              "2    858970         B  ...          0.3557                  0.08020\n",
              "3    909220         B  ...          0.2725                  0.07234\n",
              "4   9010333         B  ...          0.2434                  0.07431\n",
              "\n",
              "[5 rows x 32 columns]"
            ]
          },
          "metadata": {
            "tags": []
          },
          "execution_count": 4
        }
      ]
    },
    {
      "cell_type": "code",
      "metadata": {
        "id": "RP4sIEwJn8Z9",
        "colab_type": "code",
        "colab": {}
      },
      "source": [
        "#seed 설정을 통해 작업 수행시마다 결과가 달라지지 않도록 함\n",
        "seed = 0\n",
        "np.random.seed(seed)\n",
        "tf.set_random_seed(seed)"
      ],
      "execution_count": 0,
      "outputs": []
    },
    {
      "cell_type": "code",
      "metadata": {
        "id": "zEAqOqx1oxoU",
        "colab_type": "code",
        "colab": {}
      },
      "source": [
        "#concave points_mean과 concavity_mean을 이용해 진단 (diagnosis) 에 활용할 것\n",
        "x = df[['concave points_mean','concavity_mean']].values\n",
        "y = df['diagnosis'].values"
      ],
      "execution_count": 0,
      "outputs": []
    },
    {
      "cell_type": "code",
      "metadata": {
        "id": "LH1tY6RTp0Wp",
        "colab_type": "code",
        "colab": {}
      },
      "source": [
        "#M = malignant, B = benign 형식으로 분류된 데이터를 1 = malignant, 0 = benign 형식으로 변경\n",
        "for i in range (len(y)):\n",
        "  if y[i] == 'M':\n",
        "    y[i] = 1\n",
        "  else:\n",
        "    y[i] = 0"
      ],
      "execution_count": 0,
      "outputs": []
    },
    {
      "cell_type": "code",
      "metadata": {
        "id": "vNDAGwmQnPwB",
        "colab_type": "code",
        "outputId": "1a54db57-e75a-43f5-8806-2f1839eb305a",
        "colab": {
          "base_uri": "https://localhost:8080/",
          "height": 179
        }
      },
      "source": [
        "model = Sequential()                                #선형 회귀분석. 데이터 분류에 주로 사용\n",
        "model.add(Dense(10,input_dim=2,activation='relu'))  #첫 번째 입력계층. Dense: 노드 개수 10개, 2개 data를 받음\n",
        "model.add(Dense(30, activation='relu'))             #두 번째 입력계층. Dense: 노드 개수 30개\n",
        "model.add(Dense(1, activation='sigmoid'))           # 출력계층. 노드 하나로 참/거짓 판별\n",
        "\n",
        "model.compile(loss='mean_squared_error',optimizer='adam',metrics=['accuracy'])\n",
        "# 평균 제곱 오차 함수를 사용함, 최적화: adam 방식 사용"
      ],
      "execution_count": 8,
      "outputs": [
        {
          "output_type": "stream",
          "text": [
            "WARNING: Logging before flag parsing goes to stderr.\n",
            "W0625 08:24:25.145643 139929339897728 deprecation_wrapper.py:119] From /usr/local/lib/python3.6/dist-packages/keras/backend/tensorflow_backend.py:74: The name tf.get_default_graph is deprecated. Please use tf.compat.v1.get_default_graph instead.\n",
            "\n",
            "W0625 08:24:25.150474 139929339897728 deprecation_wrapper.py:119] From /usr/local/lib/python3.6/dist-packages/keras/backend/tensorflow_backend.py:517: The name tf.placeholder is deprecated. Please use tf.compat.v1.placeholder instead.\n",
            "\n",
            "W0625 08:24:25.154656 139929339897728 deprecation_wrapper.py:119] From /usr/local/lib/python3.6/dist-packages/keras/backend/tensorflow_backend.py:4138: The name tf.random_uniform is deprecated. Please use tf.random.uniform instead.\n",
            "\n",
            "W0625 08:24:25.196907 139929339897728 deprecation_wrapper.py:119] From /usr/local/lib/python3.6/dist-packages/keras/optimizers.py:790: The name tf.train.Optimizer is deprecated. Please use tf.compat.v1.train.Optimizer instead.\n",
            "\n"
          ],
          "name": "stderr"
        }
      ]
    },
    {
      "cell_type": "code",
      "metadata": {
        "id": "pb8CgNBcQl2v",
        "colab_type": "code",
        "outputId": "0d8ddff2-4408-4274-f8cd-2dbbbd6f9b3b",
        "colab": {
          "base_uri": "https://localhost:8080/",
          "height": 251
        }
      },
      "source": [
        "model.summary()    #학습모델을 확인할 수 있다"
      ],
      "execution_count": 9,
      "outputs": [
        {
          "output_type": "stream",
          "text": [
            "_________________________________________________________________\n",
            "Layer (type)                 Output Shape              Param #   \n",
            "=================================================================\n",
            "dense_1 (Dense)              (None, 10)                30        \n",
            "_________________________________________________________________\n",
            "dense_2 (Dense)              (None, 30)                330       \n",
            "_________________________________________________________________\n",
            "dense_3 (Dense)              (None, 1)                 31        \n",
            "=================================================================\n",
            "Total params: 391\n",
            "Trainable params: 391\n",
            "Non-trainable params: 0\n",
            "_________________________________________________________________\n"
          ],
          "name": "stdout"
        }
      ]
    },
    {
      "cell_type": "code",
      "metadata": {
        "id": "gVvpLaDTozxG",
        "colab_type": "code",
        "outputId": "d47d29ed-8348-4748-f37b-4fa850dacda4",
        "colab": {
          "base_uri": "https://localhost:8080/",
          "height": 1000
        }
      },
      "source": [
        "tf_model = model.fit(x,y,epochs=30,batch_size=10)\n",
        "#epochs: 학습 횟수"
      ],
      "execution_count": 10,
      "outputs": [
        {
          "output_type": "stream",
          "text": [
            "W0625 08:24:25.362463 139929339897728 deprecation_wrapper.py:119] From /usr/local/lib/python3.6/dist-packages/keras/backend/tensorflow_backend.py:986: The name tf.assign_add is deprecated. Please use tf.compat.v1.assign_add instead.\n",
            "\n",
            "W0625 08:24:25.458925 139929339897728 deprecation_wrapper.py:119] From /usr/local/lib/python3.6/dist-packages/keras/backend/tensorflow_backend.py:973: The name tf.assign is deprecated. Please use tf.compat.v1.assign instead.\n",
            "\n"
          ],
          "name": "stderr"
        },
        {
          "output_type": "stream",
          "text": [
            "Epoch 1/30\n",
            "284/284 [==============================] - 0s 838us/step - loss: 0.2458 - acc: 0.6831\n",
            "Epoch 2/30\n",
            "284/284 [==============================] - 0s 118us/step - loss: 0.2385 - acc: 0.6408\n",
            "Epoch 3/30\n",
            "284/284 [==============================] - 0s 135us/step - loss: 0.2317 - acc: 0.6725\n",
            "Epoch 4/30\n",
            "284/284 [==============================] - 0s 119us/step - loss: 0.2252 - acc: 0.6408\n",
            "Epoch 5/30\n",
            "284/284 [==============================] - 0s 113us/step - loss: 0.2180 - acc: 0.6972\n",
            "Epoch 6/30\n",
            "284/284 [==============================] - 0s 117us/step - loss: 0.2099 - acc: 0.7254\n",
            "Epoch 7/30\n",
            "284/284 [==============================] - 0s 139us/step - loss: 0.2011 - acc: 0.7570\n",
            "Epoch 8/30\n",
            "284/284 [==============================] - 0s 118us/step - loss: 0.1914 - acc: 0.7887\n",
            "Epoch 9/30\n",
            "284/284 [==============================] - 0s 114us/step - loss: 0.1815 - acc: 0.7958\n",
            "Epoch 10/30\n",
            "284/284 [==============================] - 0s 120us/step - loss: 0.1720 - acc: 0.7993\n",
            "Epoch 11/30\n",
            "284/284 [==============================] - 0s 145us/step - loss: 0.1621 - acc: 0.8486\n",
            "Epoch 12/30\n",
            "284/284 [==============================] - 0s 115us/step - loss: 0.1524 - acc: 0.8451\n",
            "Epoch 13/30\n",
            "284/284 [==============================] - 0s 129us/step - loss: 0.1434 - acc: 0.8415\n",
            "Epoch 14/30\n",
            "284/284 [==============================] - 0s 123us/step - loss: 0.1353 - acc: 0.8556\n",
            "Epoch 15/30\n",
            "284/284 [==============================] - 0s 139us/step - loss: 0.1281 - acc: 0.8697\n",
            "Epoch 16/30\n",
            "284/284 [==============================] - 0s 132us/step - loss: 0.1225 - acc: 0.8627\n",
            "Epoch 17/30\n",
            "284/284 [==============================] - 0s 122us/step - loss: 0.1173 - acc: 0.8732\n",
            "Epoch 18/30\n",
            "284/284 [==============================] - 0s 120us/step - loss: 0.1122 - acc: 0.8944\n",
            "Epoch 19/30\n",
            "284/284 [==============================] - 0s 115us/step - loss: 0.1081 - acc: 0.8873\n",
            "Epoch 20/30\n",
            "284/284 [==============================] - 0s 119us/step - loss: 0.1050 - acc: 0.8873\n",
            "Epoch 21/30\n",
            "284/284 [==============================] - 0s 116us/step - loss: 0.1018 - acc: 0.8908\n",
            "Epoch 22/30\n",
            "284/284 [==============================] - 0s 114us/step - loss: 0.0996 - acc: 0.8908\n",
            "Epoch 23/30\n",
            "284/284 [==============================] - 0s 121us/step - loss: 0.0973 - acc: 0.8944\n",
            "Epoch 24/30\n",
            "284/284 [==============================] - 0s 127us/step - loss: 0.0955 - acc: 0.8944\n",
            "Epoch 25/30\n",
            "284/284 [==============================] - 0s 117us/step - loss: 0.0940 - acc: 0.8873\n",
            "Epoch 26/30\n",
            "284/284 [==============================] - 0s 118us/step - loss: 0.0924 - acc: 0.8908\n",
            "Epoch 27/30\n",
            "284/284 [==============================] - 0s 116us/step - loss: 0.0927 - acc: 0.8908\n",
            "Epoch 28/30\n",
            "284/284 [==============================] - 0s 115us/step - loss: 0.0901 - acc: 0.8979\n",
            "Epoch 29/30\n",
            "284/284 [==============================] - 0s 114us/step - loss: 0.0895 - acc: 0.8944\n",
            "Epoch 30/30\n",
            "284/284 [==============================] - 0s 114us/step - loss: 0.0880 - acc: 0.9014\n"
          ],
          "name": "stdout"
        }
      ]
    },
    {
      "cell_type": "code",
      "metadata": {
        "id": "MieIP5PGo_rX",
        "colab_type": "code",
        "outputId": "87c89506-eaa9-4954-8469-4681e5e7c9df",
        "colab": {
          "base_uri": "https://localhost:8080/",
          "height": 71
        }
      },
      "source": [
        "#정확도 확인\n",
        "print(\"\\n Accuracy: %.4f\"%(model.evaluate(x,y)[1]))"
      ],
      "execution_count": 11,
      "outputs": [
        {
          "output_type": "stream",
          "text": [
            "284/284 [==============================] - 0s 119us/step\n",
            "\n",
            " Accuracy: 0.8979\n"
          ],
          "name": "stdout"
        }
      ]
    },
    {
      "cell_type": "code",
      "metadata": {
        "id": "y58BtMUwRKBF",
        "colab_type": "code",
        "outputId": "2a970df6-c59b-4fa3-bc5e-8acb1a6f8014",
        "colab": {
          "base_uri": "https://localhost:8080/",
          "height": 336
        }
      },
      "source": [
        "#loss, acc 현황을 그래프로 확인\n",
        "plt.figure(figsize=(10, 5))\n",
        "plt.subplot(1, 2, 1)\n",
        "plt.plot(tf_model.history['loss'])\n",
        "plt.title(\"loss\")\n",
        "plt.subplot(1, 2, 2)\n",
        "plt.title(\"acc\")\n",
        "plt.plot(tf_model.history['acc'])\n",
        "plt.show()"
      ],
      "execution_count": 12,
      "outputs": [
        {
          "output_type": "display_data",
          "data": {
            "image/png": "[encoded data removed]",
            "text/plain": [
              "<Figure size 720x360 with 2 Axes>"
            ]
          },
          "metadata": {
            "tags": []
          }
        }
      ]
    },
    {
      "cell_type": "code",
      "metadata": {
        "id": "D_Fxotk09RU7",
        "colab_type": "code",
        "outputId": "f80f5641-55f2-4547-a2ae-d771001961cf",
        "colab": {
          "resources": {
            "http://localhost:8080/nbextensions/google.colab/files.js": {
              "data": "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",
              "ok": true,
              "headers": [
                [
                  "content-type",
                  "application/javascript"
                ]
              ],
              "status": 200,
              "status_text": ""
            }
          },
          "base_uri": "https://localhost:8080/",
          "height": 78
        }
      },
      "source": [
        "test_data = files.upload()"
      ],
      "execution_count": 13,
      "outputs": [
        {
          "output_type": "display_data",
          "data": {
            "text/html": [
              "\n",
              "     <input type=\"file\" id=\"files-65ec1008-4c62-404a-a565-cb345e958b16\" name=\"files[]\" multiple disabled />\n",
              "     <output id=\"result-65ec1008-4c62-404a-a565-cb345e958b16\">\n",
              "      Upload widget is only available when the cell has been executed in the\n",
              "      current browser session. Please rerun this cell to enable.\n",
              "      </output>\n",
              "      <script src=\"/nbextensions/google.colab/files.js\"></script> "
            ],
            "text/plain": [
              "<IPython.core.display.HTML object>"
            ]
          },
          "metadata": {
            "tags": []
          }
        },
        {
          "output_type": "stream",
          "text": [
            "Saving valid.csv to valid (3).csv\n"
          ],
          "name": "stdout"
        }
      ]
    },
    {
      "cell_type": "code",
      "metadata": {
        "id": "W3ZpTwhR9RoR",
        "colab_type": "code",
        "colab": {}
      },
      "source": [
        "df2 = pd.read_csv('./valid.csv')"
      ],
      "execution_count": 0,
      "outputs": []
    },
    {
      "cell_type": "code",
      "metadata": {
        "id": "GK1kuOQN9Rqr",
        "colab_type": "code",
        "outputId": "93ec27a2-dd66-4b85-beeb-09f51288ecbb",
        "colab": {
          "base_uri": "https://localhost:8080/",
          "height": 241
        }
      },
      "source": [
        "df2.head()"
      ],
      "execution_count": 15,
      "outputs": [
        {
          "output_type": "execute_result",
          "data": {
            "text/html": [
              "<div>\n",
              "<style scoped>\n",
              "    .dataframe tbody tr th:only-of-type {\n",
              "        vertical-align: middle;\n",
              "    }\n",
              "\n",
              "    .dataframe tbody tr th {\n",
              "        vertical-align: top;\n",
              "    }\n",
              "\n",
              "    .dataframe thead th {\n",
              "        text-align: right;\n",
              "    }\n",
              "</style>\n",
              "<table border=\"1\" class=\"dataframe\">\n",
              "  <thead>\n",
              "    <tr style=\"text-align: right;\">\n",
              "      <th></th>\n",
              "      <th>id</th>\n",
              "      <th>diagnosis</th>\n",
              "      <th>radius_mean</th>\n",
              "      <th>texture_mean</th>\n",
              "      <th>perimeter_mean</th>\n",
              "      <th>area_mean</th>\n",
              "      <th>smoothness_mean</th>\n",
              "      <th>compactness_mean</th>\n",
              "      <th>concavity_mean</th>\n",
              "      <th>concave points_mean</th>\n",
              "      <th>symmetry_mean</th>\n",
              "      <th>fractal_dimension_mean</th>\n",
              "      <th>radius_se</th>\n",
              "      <th>texture_se</th>\n",
              "      <th>perimeter_se</th>\n",
              "      <th>area_se</th>\n",
              "      <th>smoothness_se</th>\n",
              "      <th>compactness_se</th>\n",
              "      <th>concavity_se</th>\n",
              "      <th>concave points_se</th>\n",
              "      <th>symmetry_se</th>\n",
              "      <th>fractal_dimension_se</th>\n",
              "      <th>radius_worst</th>\n",
              "      <th>texture_worst</th>\n",
              "      <th>perimeter_worst</th>\n",
              "      <th>area_worst</th>\n",
              "      <th>smoothness_worst</th>\n",
              "      <th>compactness_worst</th>\n",
              "      <th>concavity_worst</th>\n",
              "      <th>concave points_worst</th>\n",
              "      <th>symmetry_worst</th>\n",
              "      <th>fractal_dimension_worst</th>\n",
              "    </tr>\n",
              "  </thead>\n",
              "  <tbody>\n",
              "    <tr>\n",
              "      <th>0</th>\n",
              "      <td>926954</td>\n",
              "      <td>M</td>\n",
              "      <td>16.60</td>\n",
              "      <td>28.08</td>\n",
              "      <td>108.30</td>\n",
              "      <td>858.1</td>\n",
              "      <td>0.08455</td>\n",
              "      <td>0.10230</td>\n",
              "      <td>0.09251</td>\n",
              "      <td>0.05302</td>\n",
              "      <td>0.1590</td>\n",
              "      <td>0.05648</td>\n",
              "      <td>0.4564</td>\n",
              "      <td>1.075</td>\n",
              "      <td>3.425</td>\n",
              "      <td>48.55</td>\n",
              "      <td>0.005903</td>\n",
              "      <td>0.037310</td>\n",
              "      <td>0.047300</td>\n",
              "      <td>0.015570</td>\n",
              "      <td>0.01318</td>\n",
              "      <td>0.003892</td>\n",
              "      <td>18.98</td>\n",
              "      <td>34.12</td>\n",
              "      <td>126.70</td>\n",
              "      <td>1124.0</td>\n",
              "      <td>0.1139</td>\n",
              "      <td>0.3094</td>\n",
              "      <td>0.34030</td>\n",
              "      <td>0.14180</td>\n",
              "      <td>0.2218</td>\n",
              "      <td>0.07820</td>\n",
              "    </tr>\n",
              "    <tr>\n",
              "      <th>1</th>\n",
              "      <td>9112594</td>\n",
              "      <td>B</td>\n",
              "      <td>13.00</td>\n",
              "      <td>25.13</td>\n",
              "      <td>82.61</td>\n",
              "      <td>520.2</td>\n",
              "      <td>0.08369</td>\n",
              "      <td>0.05073</td>\n",
              "      <td>0.01206</td>\n",
              "      <td>0.01762</td>\n",
              "      <td>0.1667</td>\n",
              "      <td>0.05449</td>\n",
              "      <td>0.2621</td>\n",
              "      <td>1.232</td>\n",
              "      <td>1.657</td>\n",
              "      <td>21.19</td>\n",
              "      <td>0.006054</td>\n",
              "      <td>0.008974</td>\n",
              "      <td>0.005681</td>\n",
              "      <td>0.006336</td>\n",
              "      <td>0.01215</td>\n",
              "      <td>0.001514</td>\n",
              "      <td>14.34</td>\n",
              "      <td>31.88</td>\n",
              "      <td>91.06</td>\n",
              "      <td>628.5</td>\n",
              "      <td>0.1218</td>\n",
              "      <td>0.1093</td>\n",
              "      <td>0.04462</td>\n",
              "      <td>0.05921</td>\n",
              "      <td>0.2306</td>\n",
              "      <td>0.06291</td>\n",
              "    </tr>\n",
              "    <tr>\n",
              "      <th>2</th>\n",
              "      <td>906539</td>\n",
              "      <td>B</td>\n",
              "      <td>11.57</td>\n",
              "      <td>19.04</td>\n",
              "      <td>74.20</td>\n",
              "      <td>409.7</td>\n",
              "      <td>0.08546</td>\n",
              "      <td>0.07722</td>\n",
              "      <td>0.05485</td>\n",
              "      <td>0.01428</td>\n",
              "      <td>0.2031</td>\n",
              "      <td>0.06267</td>\n",
              "      <td>0.2864</td>\n",
              "      <td>1.440</td>\n",
              "      <td>2.206</td>\n",
              "      <td>20.30</td>\n",
              "      <td>0.007278</td>\n",
              "      <td>0.020470</td>\n",
              "      <td>0.044470</td>\n",
              "      <td>0.008799</td>\n",
              "      <td>0.01868</td>\n",
              "      <td>0.003339</td>\n",
              "      <td>13.07</td>\n",
              "      <td>26.98</td>\n",
              "      <td>86.43</td>\n",
              "      <td>520.5</td>\n",
              "      <td>0.1249</td>\n",
              "      <td>0.1937</td>\n",
              "      <td>0.25600</td>\n",
              "      <td>0.06664</td>\n",
              "      <td>0.3035</td>\n",
              "      <td>0.08284</td>\n",
              "    </tr>\n",
              "    <tr>\n",
              "      <th>3</th>\n",
              "      <td>9012795</td>\n",
              "      <td>M</td>\n",
              "      <td>21.37</td>\n",
              "      <td>15.10</td>\n",
              "      <td>141.30</td>\n",
              "      <td>1386.0</td>\n",
              "      <td>0.10010</td>\n",
              "      <td>0.15150</td>\n",
              "      <td>0.19320</td>\n",
              "      <td>0.12550</td>\n",
              "      <td>0.1973</td>\n",
              "      <td>0.06183</td>\n",
              "      <td>0.3414</td>\n",
              "      <td>1.309</td>\n",
              "      <td>2.407</td>\n",
              "      <td>39.06</td>\n",
              "      <td>0.004426</td>\n",
              "      <td>0.026750</td>\n",
              "      <td>0.034370</td>\n",
              "      <td>0.013430</td>\n",
              "      <td>0.01675</td>\n",
              "      <td>0.004367</td>\n",
              "      <td>22.69</td>\n",
              "      <td>21.84</td>\n",
              "      <td>152.10</td>\n",
              "      <td>1535.0</td>\n",
              "      <td>0.1192</td>\n",
              "      <td>0.2840</td>\n",
              "      <td>0.40240</td>\n",
              "      <td>0.19660</td>\n",
              "      <td>0.2730</td>\n",
              "      <td>0.08666</td>\n",
              "    </tr>\n",
              "    <tr>\n",
              "      <th>4</th>\n",
              "      <td>922297</td>\n",
              "      <td>B</td>\n",
              "      <td>13.87</td>\n",
              "      <td>20.70</td>\n",
              "      <td>89.77</td>\n",
              "      <td>584.8</td>\n",
              "      <td>0.09578</td>\n",
              "      <td>0.10180</td>\n",
              "      <td>0.03688</td>\n",
              "      <td>0.02369</td>\n",
              "      <td>0.1620</td>\n",
              "      <td>0.06688</td>\n",
              "      <td>0.2720</td>\n",
              "      <td>1.047</td>\n",
              "      <td>2.076</td>\n",
              "      <td>23.12</td>\n",
              "      <td>0.006298</td>\n",
              "      <td>0.021720</td>\n",
              "      <td>0.026150</td>\n",
              "      <td>0.009061</td>\n",
              "      <td>0.01490</td>\n",
              "      <td>0.003599</td>\n",
              "      <td>15.05</td>\n",
              "      <td>24.75</td>\n",
              "      <td>99.17</td>\n",
              "      <td>688.6</td>\n",
              "      <td>0.1264</td>\n",
              "      <td>0.2037</td>\n",
              "      <td>0.13770</td>\n",
              "      <td>0.06845</td>\n",
              "      <td>0.2249</td>\n",
              "      <td>0.08492</td>\n",
              "    </tr>\n",
              "  </tbody>\n",
              "</table>\n",
              "</div>"
            ],
            "text/plain": [
              "        id diagnosis  ...  symmetry_worst  fractal_dimension_worst\n",
              "0   926954         M  ...          0.2218                  0.07820\n",
              "1  9112594         B  ...          0.2306                  0.06291\n",
              "2   906539         B  ...          0.3035                  0.08284\n",
              "3  9012795         M  ...          0.2730                  0.08666\n",
              "4   922297         B  ...          0.2249                  0.08492\n",
              "\n",
              "[5 rows x 32 columns]"
            ]
          },
          "metadata": {
            "tags": []
          },
          "execution_count": 15
        }
      ]
    },
    {
      "cell_type": "code",
      "metadata": {
        "id": "2U0V4iBM9RtP",
        "colab_type": "code",
        "colab": {}
      },
      "source": [
        "X = df2[['concave points_mean','concavity_mean']].values    #진단에 사용할 데이터\n",
        "Y = df2['diagnosis'].values       #진단 결과. 이를 기계학습 예측 결과와 비교할 것\n",
        "\n",
        "for i in range (len(Y)):\n",
        "  if Y[i] == 'M':\n",
        "    Y[i] = 1\n",
        "  else:\n",
        "    Y[i] = 0"
      ],
      "execution_count": 0,
      "outputs": []
    },
    {
      "cell_type": "code",
      "metadata": {
        "id": "VyFTca8Ja0yJ",
        "colab_type": "code",
        "colab": {}
      },
      "source": [
        "result = model.predict_classes(X)    #앞서 생성한 기계학습 모델을 적용시킴"
      ],
      "execution_count": 0,
      "outputs": []
    },
    {
      "cell_type": "code",
      "metadata": {
        "id": "NpjpJbvelw-1",
        "colab_type": "code",
        "colab": {
          "base_uri": "https://localhost:8080/",
          "height": 143
        },
        "outputId": "1b39e428-2917-4d1f-b86f-43e4ed81301a"
      },
      "source": [
        "result == Y    #예측 결과와 진단 결과의 비교. True인 경우 옳게 예측한 것"
      ],
      "execution_count": 18,
      "outputs": [
        {
          "output_type": "execute_result",
          "data": {
            "text/plain": [
              "array([[False,  True,  True, ...,  True,  True,  True],\n",
              "       [False,  True,  True, ...,  True,  True,  True],\n",
              "       [False,  True,  True, ...,  True,  True,  True],\n",
              "       ...,\n",
              "       [False,  True,  True, ...,  True,  True,  True],\n",
              "       [False,  True,  True, ...,  True,  True,  True],\n",
              "       [False,  True,  True, ...,  True,  True,  True]])"
            ]
          },
          "metadata": {
            "tags": []
          },
          "execution_count": 18
        }
      ]
    },
    {
      "cell_type": "code",
      "metadata": {
        "id": "sR5g6OJtn9cd",
        "colab_type": "code",
        "colab": {}
      },
      "source": [
        "a = pd.DataFrame(result, columns = ['pred'])\n",
        "b = pd.DataFrame(Y, columns = ['diag'])\n",
        "res = pd.merge(a, b, left_index=True, right_index=True)"
      ],
      "execution_count": 0,
      "outputs": []
    },
    {
      "cell_type": "code",
      "metadata": {
        "id": "25k7bteJpbzw",
        "colab_type": "code",
        "colab": {
          "base_uri": "https://localhost:8080/",
          "height": 107
        },
        "outputId": "9dda052b-c306-48f8-ef8d-9346d0a2d5e9"
      },
      "source": [
        "res['chk'] = 0\n",
        "for i in range(res.shape[0]):\n",
        "    if(res['pred'][i] == res['diag'][i]):\n",
        "        res['chk'][i] = 1"
      ],
      "execution_count": 20,
      "outputs": [
        {
          "output_type": "stream",
          "text": [
            "/usr/local/lib/python3.6/dist-packages/ipykernel_launcher.py:4: SettingWithCopyWarning: \n",
            "A value is trying to be set on a copy of a slice from a DataFrame\n",
            "\n",
            "See the caveats in the documentation: http://pandas.pydata.org/pandas-docs/stable/indexing.html#indexing-view-versus-copy\n",
            "  after removing the cwd from sys.path.\n"
          ],
          "name": "stderr"
        }
      ]
    },
    {
      "cell_type": "code",
      "metadata": {
        "id": "IUdbOvlBrqrp",
        "colab_type": "code",
        "colab": {}
      },
      "source": [
        "accuracy = sum(res['chk'].values) / len(res['chk'])"
      ],
      "execution_count": 0,
      "outputs": []
    },
    {
      "cell_type": "code",
      "metadata": {
        "id": "HKy-bgWh-P2c",
        "colab_type": "code",
        "outputId": "48003e67-b725-47af-b656-dcb9dd50b212",
        "colab": {
          "base_uri": "https://localhost:8080/",
          "height": 35
        }
      },
      "source": [
        "print(f\"Accuracy: {accuracy:.4f}\")"
      ],
      "execution_count": 22,
      "outputs": [
        {
          "output_type": "stream",
          "text": [
            "Accuracy: 0.9190\n"
          ],
          "name": "stdout"
        }
      ]
    },
    {
      "cell_type": "code",
      "metadata": {
        "id": "FTbjGb4t-qQj",
        "colab_type": "code",
        "colab": {}
      },
      "source": [
        ""
      ],
      "execution_count": 0,
      "outputs": []
    }
  ]
}